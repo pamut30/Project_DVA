{
 "cells": [
  {
   "cell_type": "code",
   "execution_count": 1,
   "metadata": {},
   "outputs": [],
   "source": [
    "import pandas as pd \n",
    "import numpy as np \n",
    "\n",
    "from sklearn.model_selection import cross_val_score,GridSearchCV\n",
    "\n",
    "from sklearn.pipeline import Pipeline\n",
    "from sklearn.pipeline import make_pipeline\n",
    "#########\n",
    "from sklearn.decomposition import PCA\n",
    "from sklearn import linear_model\n",
    "from sklearn.decomposition import TruncatedSVD\n",
    "from sklearn.decomposition import FactorAnalysis\n"
   ]
  },
  {
   "cell_type": "code",
   "execution_count": 2,
   "metadata": {},
   "outputs": [],
   "source": [
    "\"\"\"\n",
    "import dataset\n",
    "\"\"\"\n",
    "train = pd.read_csv('../Data/adult_train_preprocessed.csv')\n",
    "test = pd.read_csv('../Data/adult_test_preprocessed.csv')\n",
    "train_y = train.iloc[:,-1]\n",
    "train_x = train.iloc[:,:-1]\n",
    "test_y = test.iloc[:,-1]\n",
    "test_x = test.iloc[:,:-1]\n"
   ]
  },
  {
   "cell_type": "code",
   "execution_count": 3,
   "metadata": {},
   "outputs": [
    {
     "name": "stdout",
     "output_type": "stream",
     "text": [
      "(45222, 30)\n",
      "rank of data matrix:  28\n",
      "rank of inversd matrix: 28\n"
     ]
    }
   ],
   "source": [
    "# Checking how linear dependency of matrix \n",
    "\n",
    "from numpy.linalg import matrix_rank\n",
    "total_data = pd.concat([train_x, test_x])\n",
    "print(total_data.shape)\n",
    "rank_all = matrix_rank(total_data)\n",
    "print('rank of data matrix: ',rank_all) \n",
    "trans = total_data.T\n",
    "print('rank of inversd matrix:',matrix_rank(trans))\n"
   ]
  },
  {
   "cell_type": "markdown",
   "metadata": {},
   "source": [
    "## PCA Decomposition "
   ]
  },
  {
   "cell_type": "code",
   "execution_count": 4,
   "metadata": {},
   "outputs": [],
   "source": [
    "# (components selected maunally)\n",
    "pca_man = PCA(n_components = 20, svd_solver = 'auto', tol = 0.01)\n",
    "#(components selection by variance explained)\n",
    "pca_var = PCA(n_components = 0.99, svd_solver = 'full', tol = 0.01)\n",
    "\n",
    "\n",
    "'''producing CSV files on dimension reduced dataset'''\n",
    "\n",
    "df= pca_man.fit_transform(train_x,train_y) \n",
    "df =pd.DataFrame(df)\n",
    "df['20']= train_y\n",
    "df.to_csv('../Data/train_PCA_manual.csv', index = None)\n",
    "\n",
    "df1= pca_var.fit_transform(train_x,train_y) \n",
    "df1 =pd.DataFrame(df1)\n",
    "df1['22']= train_y\n",
    "df1.to_csv('../Data/train_PCA_variance.csv', index = None)\n",
    "\n",
    "df2= pca_man.fit_transform(test_x,test_y) \n",
    "df2 =pd.DataFrame(df2)\n",
    "df2['20']= test_y\n",
    "df2.to_csv('../Data/test_PCA_manual.csv', index = None)\n",
    "\n",
    "df3= pca_var.fit_transform(test_x,test_y) \n",
    "df3 =pd.DataFrame(df3)\n",
    "df3['22']= test_y\n",
    "df3.to_csv('../Data/test_PCA_variance.csv', index = None)"
   ]
  },
  {
   "cell_type": "markdown",
   "metadata": {},
   "source": [
    "## Truncated SVD"
   ]
  },
  {
   "cell_type": "code",
   "execution_count": 5,
   "metadata": {},
   "outputs": [],
   "source": [
    "#Truncated SVD\n",
    "\n",
    "svd = TruncatedSVD(n_components = 20, tol = 0.01)\n",
    "svd.fit(train_x, train_y) \n",
    "\n",
    "df4= svd.fit_transform(train_x,train_y) \n",
    "df4 =pd.DataFrame(df4)\n",
    "df['20']= train_y\n",
    "df4.to_csv('../Data/train_SVD.csv', index = None)\n",
    "\n",
    "df5= svd.fit_transform(test_x,test_y) \n",
    "df5 =pd.DataFrame(df5)\n",
    "df5['20']= test_y\n",
    "df5.to_csv('../Data/test_SVD.csv', index = None)"
   ]
  },
  {
   "cell_type": "markdown",
   "metadata": {},
   "source": [
    "# Factor analysis "
   ]
  },
  {
   "cell_type": "code",
   "execution_count": 6,
   "metadata": {},
   "outputs": [],
   "source": [
    "fa = FactorAnalysis(n_components= 20, max_iter=1000, tol = 0.01)\n",
    "\n",
    "df6= fa.fit_transform(train_x,train_y) \n",
    "df6 =pd.DataFrame(df6)\n",
    "df6['20']= train_y\n",
    "df6.to_csv('../Data/train_FA.csv', index = None)\n",
    "\n",
    "df7= fa.fit_transform(test_x,test_y) \n",
    "df7 =pd.DataFrame(df7)\n",
    "df7['20']= test_y\n",
    "df7.to_csv('../Data/test_FA.csv', index = None)"
   ]
  }
 ],
 "metadata": {
  "kernelspec": {
   "display_name": "Python 3.7",
   "language": "python",
   "name": "python3"
  },
  "language_info": {
   "codemirror_mode": {
    "name": "ipython",
    "version": 3
   },
   "file_extension": ".py",
   "mimetype": "text/x-python",
   "name": "python",
   "nbconvert_exporter": "python",
   "pygments_lexer": "ipython3",
   "version": "3.7.6"
  },
  "varInspector": {
   "cols": {
    "lenName": 16,
    "lenType": 16,
    "lenVar": 40
   },
   "kernels_config": {
    "python": {
     "delete_cmd_postfix": "",
     "delete_cmd_prefix": "del ",
     "library": "var_list.py",
     "varRefreshCmd": "print(var_dic_list())"
    },
    "r": {
     "delete_cmd_postfix": ") ",
     "delete_cmd_prefix": "rm(",
     "library": "var_list.r",
     "varRefreshCmd": "cat(var_dic_list()) "
    }
   },
   "types_to_exclude": [
    "module",
    "function",
    "builtin_function_or_method",
    "instance",
    "_Feature"
   ],
   "window_display": false
  }
 },
 "nbformat": 4,
 "nbformat_minor": 4
}
